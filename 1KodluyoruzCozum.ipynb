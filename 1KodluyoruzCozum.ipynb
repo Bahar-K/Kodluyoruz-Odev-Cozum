{
 "cells": [
  {
   "cell_type": "code",
   "execution_count": 27,
   "id": "9b47b492-be13-4277-8461-f299c9ab8de0",
   "metadata": {},
   "outputs": [
    {
     "name": "stdout",
     "output_type": "stream",
     "text": [
      "Çıktı:\n",
      " [1, 'a', 'cat', 2, 3, 'dog', 4, 5]\n"
     ]
    }
   ],
   "source": [
    "\"\"\"\n",
    "1- Bir listeyi düzleştiren (flatten) fonksiyon yazın. Elemanları birden çok katmanlı listelerden ([[3],2] gibi) oluşabileceği gibi,\n",
    " non-scalar verilerden de oluşabilir. Örnek olarak:\n",
    "\n",
    "input: [[1,'a',['cat'],2],[[[3]],'dog'],4,5]\n",
    "\n",
    "output: [1,'a','cat',2,3,'dog',4,5]\n",
    "\"\"\"\n",
    "input1 = [[1,'a',['cat'],2],[[[3]],'dog'],4,5]\n",
    "boshList = []\n",
    "\n",
    "def flatten(input):\n",
    "    for item in input:\n",
    "        # item halen list mi diye kontrol yapıyor. List türündeyse bu fonksiyonda tekrar işleme girecek flatten olana kadar.. \n",
    "        if isinstance(item,list):\n",
    "            flatten(item)\n",
    "        else:\n",
    "            boshList.append(item)\n",
    "flatten(input1)\n",
    "print(\"Çıktı:\\n\",boshList)"
   ]
  },
  {
   "cell_type": "code",
   "execution_count": 30,
   "id": "f78f175b-7c90-4903-bcab-91184441f7f4",
   "metadata": {},
   "outputs": [
    {
     "data": {
      "text/plain": [
       "[[7, 6, 5], [4, 3], [2, 1]]"
      ]
     },
     "execution_count": 30,
     "metadata": {},
     "output_type": "execute_result"
    }
   ],
   "source": [
    "\"\"\"\n",
    "2- Verilen listenin içindeki elemanları tersine döndüren bir fonksiyon yazın.\n",
    "Eğer listenin içindeki elemanlar da liste içeriyorsa onların elemanlarını da tersine döndürün. Örnek olarak:\n",
    "\n",
    "Note: Syntax: reversed_list = systems[start:stop:step] \n",
    "reversed_list = systems[::-1]\n",
    "\n",
    "\"\"\"\n",
    "input2=[[1, 2], [3, 4], [5, 6, 7]]\n",
    "\n",
    "input2=input2[::-1]\n",
    "#[[2, 1], [4, 3], [7, 6, 5]]\n",
    "\n",
    "for i in input2:\n",
    "    i.reverse()\n",
    "\n",
    "input2\n",
    "#output: [[[7, 6, 5], [4, 3], [2, 1]]"
   ]
  }
 ],
 "metadata": {
  "kernelspec": {
   "display_name": "Python 3 (ipykernel)",
   "language": "python",
   "name": "python3"
  },
  "language_info": {
   "codemirror_mode": {
    "name": "ipython",
    "version": 3
   },
   "file_extension": ".py",
   "mimetype": "text/x-python",
   "name": "python",
   "nbconvert_exporter": "python",
   "pygments_lexer": "ipython3",
   "version": "3.9.12"
  }
 },
 "nbformat": 4,
 "nbformat_minor": 5
}
